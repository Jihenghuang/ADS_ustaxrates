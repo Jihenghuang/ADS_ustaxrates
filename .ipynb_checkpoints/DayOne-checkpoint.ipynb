{
 "cells": [
  {
   "cell_type": "code",
   "execution_count": 2,
   "metadata": {
    "collapsed": false
   },
   "outputs": [
    {
     "name": "stdout",
     "output_type": "stream",
     "text": [
      "Populating the interactive namespace from numpy and matplotlib\n"
     ]
    }
   ],
   "source": [
    "#add necessary libraries\n",
    "import networkx as nx #library supporting networks\n",
    "import matplotlib.pyplot as plt #plotting\n",
    "import pandas as pd\n",
    "import geopandas as gpd\n",
    "import numpy as np\n",
    "import scipy.stats as stat\n",
    "from scipy import optimize\n",
    "import pysal as ps\n",
    "from zipfile import ZipFile\n",
    "from StringIO import StringIO\n",
    "#make sure plots are embedded into the notebook\n",
    "%pylab inline \n",
    "import statsmodels.formula.api as smf"
   ]
  },
  {
   "cell_type": "markdown",
   "metadata": {},
   "source": [
    "## 1. Data Loading"
   ]
  },
  {
   "cell_type": "code",
   "execution_count": 3,
   "metadata": {
    "collapsed": false
   },
   "outputs": [
    {
     "name": "stdout",
     "output_type": "stream",
     "text": [
      "            fips      gdp\n",
      "state                    \n",
      "Alabama     1000   199440\n",
      "Alaska      2000    57080\n",
      "Arizona     4000   284156\n",
      "Arkansas    5000   121395\n",
      "California  6000  2311616\n",
      "Index([u'fips', u'gdp'], dtype='object')\n",
      "51\n"
     ]
    }
   ],
   "source": [
    "# load state gdp data (2014)\n",
    "gdp = pd.read_csv('bea_gdp_by_state_in_millions.csv', header = 0, names=['fips', 'state', 'gdp'], index_col=['state'])\n",
    "print gdp.head()\n",
    "print gdp.columns\n",
    "print len(gdp)"
   ]
  },
  {
   "cell_type": "code",
   "execution_count": 4,
   "metadata": {
    "collapsed": false
   },
   "outputs": [
    {
     "name": "stdout",
     "output_type": "stream",
     "text": [
      "            id abbrev      capital   latitude   longitude  population\n",
      "state                                                                \n",
      "Alabama      1     AL   Montgomery  32.380120  -86.300629      205764\n",
      "Alaska       2     AK       Juneau  58.299740 -134.406794       31275\n",
      "Arizona      4     AZ      Phoenix  33.448260 -112.075774     1445632\n",
      "Arkansas     5     AR  Little Rock  34.748655  -92.274494      193524\n",
      "California   6     CA   Sacramento  38.579065 -121.491014      466488\n",
      "Index([u'id', u'abbrev', u'capital', u'latitude', u'longitude', u'population'], dtype='object')\n",
      "50\n"
     ]
    }
   ],
   "source": [
    "# load state capitals\n",
    "caps = pd.read_csv('Capitals.csv', header = 0, index_col=['state'])\n",
    "print caps.head()\n",
    "print caps.columns\n",
    "print len(caps)"
   ]
  },
  {
   "cell_type": "code",
   "execution_count": 5,
   "metadata": {
    "collapsed": false
   },
   "outputs": [
    {
     "name": "stdout",
     "output_type": "stream",
     "text": [
      "            STATEFP  POPULATION   LATITUDE   LONGITUDE\n",
      "STNAME                                                \n",
      "Alabama           1     4779736  33.008097  -86.756826\n",
      "Alaska            2      710231  61.399882 -148.873973\n",
      "Arizona           4     6392017  33.368266 -111.864310\n",
      "Arkansas          5     2915918  35.142580  -92.655243\n",
      "California        6    37253956  35.463595 -119.325359\n",
      "Index([u'STATEFP', u'POPULATION', u'LATITUDE', u'LONGITUDE'], dtype='object')\n"
     ]
    }
   ],
   "source": [
    "# load state population centers\n",
    "popcenter = pd.read_csv('CenPop2010_Mean_ST.txt', index_col=['STNAME'])\n",
    "print popcenter.head()\n",
    "print popcenter.columns"
   ]
  },
  {
   "cell_type": "code",
   "execution_count": 57,
   "metadata": {
    "collapsed": false
   },
   "outputs": [
    {
     "name": "stdout",
     "output_type": "stream",
     "text": [
      "51\n",
      "Index([u'State_Sales', u'Avg_Local_Sales', u'Combined_Sales',\n",
      "       u'Max_Local_Sales', u'Property', u'Income_Low', u'Income_High',\n",
      "       u'Mature_Firm_HQ', u'New_Firm_HQ'],\n",
      "      dtype='object')\n",
      "Index([             u'Alabama',               u'Alaska',\n",
      "                    u'Arizona',             u'Arkansas',\n",
      "                 u'California',             u'Colorado',\n",
      "                u'Connecticut',             u'Delaware',\n",
      "                    u'Florida',              u'Georgia',\n",
      "                    u'Hawaii ',                u'Idaho',\n",
      "                   u'Illinois',              u'Indiana',\n",
      "                       u'Iowa',               u'Kansas',\n",
      "                   u'Kentucky',            u'Louisiana',\n",
      "                      u'Maine',             u'Maryland',\n",
      "              u'Massachusetts',             u'Michigan',\n",
      "                  u'Minnesota',          u'Mississippi',\n",
      "                   u'Missouri',             u'Montana ',\n",
      "                   u'Nebraska',               u'Nevada',\n",
      "              u'New Hampshire',          u'New Jersey ',\n",
      "                u'New Mexico ',             u'New York',\n",
      "             u'North Carolina',         u'North Dakota',\n",
      "                       u'Ohio',             u'Oklahoma',\n",
      "                     u'Oregon',         u'Pennsylvania',\n",
      "               u'Rhode Island',       u'South Carolina',\n",
      "              u'South Dakota ',            u'Tennessee',\n",
      "                      u'Texas',                u'Utah ',\n",
      "                    u'Vermont',            u'Virginia ',\n",
      "                 u'Washington',        u'West Virginia',\n",
      "                  u'Wisconsin',              u'Wyoming',\n",
      "       u'District of Columbia'],\n",
      "      dtype='object')\n",
      "            State_Sales  Avg_Local_Sales  Combined_Sales  Max_Local_Sales  \\\n",
      "Alabama           0.040           0.0491          0.0891            0.070   \n",
      "Alaska              NaN           0.0176          0.0176            0.075   \n",
      "Arizona           0.056           0.0257          0.0817            0.053   \n",
      "Arkansas          0.065           0.0276          0.0926            0.055   \n",
      "California        0.075           0.0094          0.0844            0.025   \n",
      "\n",
      "            Property  Income_Low  Income_High  Mature_Firm_HQ  New_Firm_HQ  \n",
      "Alabama       0.0033      0.0200       0.0500           0.130        0.133  \n",
      "Alaska        0.0104         NaN          NaN           0.112        0.124  \n",
      "Arizona       0.0072      0.0259       0.0454           0.124        0.170  \n",
      "Arkansas      0.0052      0.0090       0.0690           0.136        0.089  \n",
      "California    0.0074      0.0100       0.1230           0.168        0.209  \n"
     ]
    }
   ],
   "source": [
    "# load state tax rates (all types)\n",
    "tax = pd.read_excel('Taxes rates by state.xlsx', index_col=['State'])\n",
    "print len(tax)\n",
    "\n",
    "# clean col names to make easier to work with\n",
    "tax.columns = ['State_Sales', 'Avg_Local_Sales', 'Combined_Sales', 'Max_Local_Sales'\n",
    "               , 'Property', 'Income_Low', 'Income_High', 'Mature_Firm_HQ', 'New_Firm_HQ']\n",
    "print tax.columns\n",
    "#print tax.head()\n",
    "\n",
    "# clean index names\n",
    "tax.index =  [state.replace(\"\\\"\", \"\") for state in tax.index]\n",
    "#print tax.index\n",
    "\n",
    "# convert percentages to floats\n",
    "tax['New_Firm_HQ'] = tax['New_Firm_HQ'].replace('%','',regex=True).astype('float')/100\n",
    "tax['Mature_Firm_HQ'] = tax['Mature_Firm_HQ'].replace('%','',regex=True).astype('float')/100\n",
    "\n",
    "print tax.head()"
   ]
  },
  {
   "cell_type": "code",
   "execution_count": 37,
   "metadata": {
    "collapsed": false
   },
   "outputs": [
    {
     "name": "stdout",
     "output_type": "stream",
     "text": [
      "Index([u'AFFGEOID',    u'ALAND',   u'AWATER',    u'GEOID',     u'LSAD',\n",
      "           u'NAME',  u'STATEFP',  u'STATENS',   u'STUSPS', u'geometry'],\n",
      "      dtype='object')\n"
     ]
    }
   ],
   "source": [
    "# This is only for the shapes that will be used by PySAL to \n",
    "# build the spatial weights matrix\n",
    "data = gpd.read_file('cb_2014_us_state_5m/cb_2014_us_state_5m.shp')\n",
    "psGeom = ps.open('cb_2014_us_state_5m/cb_2014_us_state_5m.shp', 'r')\n",
    "\n",
    "print data.columns"
   ]
  },
  {
   "cell_type": "markdown",
   "metadata": {},
   "source": [
    "## 2. Build spatial weight matrices"
   ]
  },
  {
   "cell_type": "markdown",
   "metadata": {},
   "source": [
    "### 2.1. Rook "
   ]
  },
  {
   "cell_type": "code",
   "execution_count": 39,
   "metadata": {
    "collapsed": false
   },
   "outputs": [
    {
     "name": "stdout",
     "output_type": "stream",
     "text": [
      "WARNING: there are 7 disconnected observations\n",
      "Island ids:  [u'Puerto Rico', u'Commonwealth of the Northern Mariana Islands', u'Alaska', u'Hawaii', u'United States Virgin Islands', u'American Samoa', u'Guam']\n",
      "WARNING:  Puerto Rico  is an island (no neighbors)\n",
      "WARNING:  Commonwealth of the Northern Mariana Islands  is an island (no neighbors)\n",
      "WARNING:  Alaska  is an island (no neighbors)\n",
      "WARNING:  Hawaii  is an island (no neighbors)\n",
      "WARNING:  United States Virgin Islands  is an island (no neighbors)\n",
      "WARNING:  American Samoa  is an island (no neighbors)\n",
      "WARNING:  Guam  is an island (no neighbors)\n"
     ]
    }
   ],
   "source": [
    "# We are building the spatial weight matrix and using the \n",
    "# state names as IDs of the matrix.\n",
    "\n",
    "R = ps.buildContiguity(psGeom, criterion='rook', ids=data['NAME'].values.tolist())\n",
    "R.transform = 'R' # normalize"
   ]
  },
  {
   "cell_type": "code",
   "execution_count": 41,
   "metadata": {
    "collapsed": false
   },
   "outputs": [],
   "source": [
    "#for (loc, neighbors) in R:\n",
    "    #print loc, neighbors"
   ]
  },
  {
   "cell_type": "code",
   "execution_count": null,
   "metadata": {
    "collapsed": true
   },
   "outputs": [],
   "source": []
  },
  {
   "cell_type": "markdown",
   "metadata": {},
   "source": [
    "### 2.2. Queen "
   ]
  },
  {
   "cell_type": "code",
   "execution_count": 42,
   "metadata": {
    "collapsed": false
   },
   "outputs": [
    {
     "name": "stdout",
     "output_type": "stream",
     "text": [
      "WARNING: there are 7 disconnected observations\n",
      "Island ids:  [u'Puerto Rico', u'Commonwealth of the Northern Mariana Islands', u'Alaska', u'Hawaii', u'United States Virgin Islands', u'American Samoa', u'Guam']\n",
      "WARNING:  Puerto Rico  is an island (no neighbors)\n",
      "WARNING:  Commonwealth of the Northern Mariana Islands  is an island (no neighbors)\n",
      "WARNING:  Alaska  is an island (no neighbors)\n",
      "WARNING:  Hawaii  is an island (no neighbors)\n",
      "WARNING:  United States Virgin Islands  is an island (no neighbors)\n",
      "WARNING:  American Samoa  is an island (no neighbors)\n",
      "WARNING:  Guam  is an island (no neighbors)\n"
     ]
    }
   ],
   "source": [
    "# We are building the spatial weight matrix and using the \n",
    "# state names as IDs of the matrix. Noted that we\n",
    "# running a 'queen', shared vertices, neighborhood test.\n",
    "\n",
    "Q = ps.buildContiguity(psGeom, criterion='queen', ids=data['NAME'].values.tolist())\n",
    "Q.transform = 'R' # normalize"
   ]
  },
  {
   "cell_type": "code",
   "execution_count": 47,
   "metadata": {
    "collapsed": false
   },
   "outputs": [],
   "source": [
    "#for (loc, neighbors) in Q:\n",
    "    #print loc, neighbors"
   ]
  },
  {
   "cell_type": "markdown",
   "metadata": {},
   "source": [
    "### 2.3. Distance-weighted by state capitals (50 by 50 matrix) "
   ]
  },
  {
   "cell_type": "code",
   "execution_count": null,
   "metadata": {
    "collapsed": true
   },
   "outputs": [],
   "source": []
  },
  {
   "cell_type": "markdown",
   "metadata": {},
   "source": [
    "### 2.4. Distance-weighted by population centers (50 by 50 matrix) "
   ]
  },
  {
   "cell_type": "code",
   "execution_count": null,
   "metadata": {
    "collapsed": true
   },
   "outputs": [],
   "source": []
  },
  {
   "cell_type": "markdown",
   "metadata": {},
   "source": [
    "### 2.5. Gravity model (???) "
   ]
  },
  {
   "cell_type": "code",
   "execution_count": null,
   "metadata": {
    "collapsed": true
   },
   "outputs": [],
   "source": []
  },
  {
   "cell_type": "code",
   "execution_count": null,
   "metadata": {
    "collapsed": true
   },
   "outputs": [],
   "source": []
  },
  {
   "cell_type": "code",
   "execution_count": null,
   "metadata": {
    "collapsed": true
   },
   "outputs": [],
   "source": []
  },
  {
   "cell_type": "markdown",
   "metadata": {},
   "source": [
    "## 3. Calculate spatial auto-correlations for tax rates (each type)\n",
    "### Morans I (see lab9_sa from NYU Classes)"
   ]
  },
  {
   "cell_type": "code",
   "execution_count": null,
   "metadata": {
    "collapsed": true
   },
   "outputs": [],
   "source": [
    "# Template\n",
    "\n",
    "# Y is the normalized list of values\n",
    "\n",
    "# Y = data['percent'].values\n",
    "# Y = (Y-Y.mean())/Y.std() # <<<---- normalization\n",
    "\n",
    "\n",
    "# W is the standardized dict. of all the weights. This can be \n",
    "# done by specifying 'R' as the matrix transformation. All the weights\n",
    "# should add up to 1.\n",
    "\n",
    "# W.transform = 'R'\n",
    "\n",
    "\n",
    "# Execute the Moran's I calculation\n",
    "\n",
    "# mi = ps.Moran(Y, W)\n",
    "\n",
    "# This is the Moran's I value, that would tell us whether tax rates\n",
    "# among states are clustered, or not.\n",
    "\n",
    "# mi.I\n",
    "\n",
    "# Check the p-value of the calculation. This has to be < 0.05 for our\n",
    "# calculation to be statistically significant.\n",
    "\n",
    "# mi.p_sim"
   ]
  },
  {
   "cell_type": "markdown",
   "metadata": {},
   "source": [
    "### 2.1. Rook "
   ]
  },
  {
   "cell_type": "code",
   "execution_count": 51,
   "metadata": {
    "collapsed": false
   },
   "outputs": [
    {
     "name": "stdout",
     "output_type": "stream",
     "text": [
      "Index([              u'Alabama',               u'Arizona',\n",
      "                    u'Arkansas',            u'California',\n",
      "                    u'Colorado',           u'Connecticut',\n",
      "                     u'Florida',               u'Georgia',\n",
      "                     u'Hawaii ',                 u'Idaho',\n",
      "                    u'Illinois',               u'Indiana',\n",
      "                        u'Iowa',                u'Kansas',\n",
      "                    u'Kentucky',             u'Louisiana',\n",
      "                       u'Maine',              u'Maryland',\n",
      "               u'Massachusetts',              u'Michigan',\n",
      "                   u'Minnesota',           u'Mississippi',\n",
      "                    u'Missouri',              u'Nebraska',\n",
      "                      u'Nevada',           u'New Jersey ',\n",
      "                 u'New Mexico ',              u'New York',\n",
      "              u'North Carolina',          u'North Dakota',\n",
      "                        u'Ohio',              u'Oklahoma',\n",
      "                u'Pennsylvania',          u'Rhode Island',\n",
      "              u'South Carolina',         u'South Dakota ',\n",
      "                   u'Tennessee',                 u'Texas',\n",
      "                       u'Utah ',               u'Vermont',\n",
      "                   u'Virginia ',            u'Washington',\n",
      "               u'West Virginia',             u'Wisconsin',\n",
      "                     u'Wyoming', u'District of Columbia\"'],\n",
      "      dtype='object', name=u'State')\n",
      "[-1.53803281 -0.03522213  0.81010889  1.74936557 -2.57121516  0.66922038\n",
      "  0.34048055 -1.53803281 -1.53803281  0.34048055  0.57529472  1.27973723\n",
      "  0.34048055  0.48136905  0.34048055 -1.53803281 -0.12914779  0.34048055\n",
      "  0.57529472  0.34048055  1.16233014  1.27973723 -1.32670006 -0.12914779\n",
      "  1.13884872  1.27973723 -0.48136905 -1.53803281 -0.8335903  -0.59877613\n",
      "  0.10566638 -1.06840447  0.34048055  1.27973723  0.34048055 -1.53803281\n",
      "  1.27973723  0.57529472  0.29351771  0.34048055 -0.31699913  0.81010889\n",
      "  0.34048055 -0.59877613 -1.53803281  0.10566638]\n",
      "<type 'unicode'> Arizona {u'Utah': 0.25, u'Nevada': 0.25, u'California': 0.25, u'New Mexico': 0.25}\n",
      "<type 'unicode'> Arkansas {u'Mississippi': 0.16666666666666666, u'Oklahoma': 0.16666666666666666, u'Tennessee': 0.16666666666666666, u'Missouri': 0.16666666666666666, u'Louisiana': 0.16666666666666666, u'Texas': 0.16666666666666666}\n",
      "<type 'unicode'> California {u'Arizona': 0.3333333333333333, u'Oregon': 0.3333333333333333, u'Nevada': 0.3333333333333333}\n",
      "<type 'unicode'> Connecticut {u'New York': 0.3333333333333333, u'Massachusetts': 0.3333333333333333, u'Rhode Island': 0.3333333333333333}\n",
      "<type 'unicode'> Florida {u'Alabama': 0.5, u'Georgia': 0.5}\n",
      "<type 'unicode'> Georgia {u'South Carolina': 0.2, u'Alabama': 0.2, u'Tennessee': 0.2, u'Florida': 0.2, u'North Carolina': 0.2}\n",
      "<type 'unicode'> Idaho {u'Washington': 0.16666666666666666, u'Wyoming': 0.16666666666666666, u'Utah': 0.16666666666666666, u'Oregon': 0.16666666666666666, u'Montana': 0.16666666666666666, u'Nevada': 0.16666666666666666}\n",
      "<type 'unicode'> Illinois {u'Iowa': 0.2, u'Wisconsin': 0.2, u'Indiana': 0.2, u'Kentucky': 0.2, u'Missouri': 0.2}\n",
      "<type 'unicode'> Iowa {u'South Dakota': 0.16666666666666666, u'Wisconsin': 0.16666666666666666, u'Minnesota': 0.16666666666666666, u'Illinois': 0.16666666666666666, u'Nebraska': 0.16666666666666666, u'Missouri': 0.16666666666666666}\n",
      "<type 'unicode'> Kansas {u'Oklahoma': 0.25, u'Nebraska': 0.25, u'Colorado': 0.25, u'Missouri': 0.25}\n",
      "<type 'unicode'> Louisiana {u'Mississippi': 0.3333333333333333, u'Arkansas': 0.3333333333333333, u'Texas': 0.3333333333333333}\n",
      "<type 'unicode'> Maryland {u'Pennsylvania': 0.2, u'West Virginia': 0.2, u'Delaware': 0.2, u'Virginia': 0.2, u'District of Columbia': 0.2}\n",
      "<type 'unicode'> Minnesota {u'Iowa': 0.25, u'South Dakota': 0.25, u'Wisconsin': 0.25, u'North Dakota': 0.25}\n",
      "<type 'unicode'> Mississippi {u'Arkansas': 0.25, u'Alabama': 0.25, u'Tennessee': 0.25, u'Louisiana': 0.25}\n",
      "<type 'unicode'> Missouri {u'Iowa': 0.125, u'Oklahoma': 0.125, u'Kansas': 0.125, u'Kentucky': 0.125, u'Illinois': 0.125, u'Tennessee': 0.125, u'Arkansas': 0.125, u'Nebraska': 0.125}\n",
      "<type 'unicode'> Nebraska {u'Kansas': 0.16666666666666666, u'Iowa': 0.16666666666666666, u'Colorado': 0.16666666666666666, u'Wyoming': 0.16666666666666666, u'South Dakota': 0.16666666666666666, u'Missouri': 0.16666666666666666}\n",
      "<type 'unicode'> Nevada {u'Utah': 0.2, u'Arizona': 0.2, u'California': 0.2, u'Oregon': 0.2, u'Idaho': 0.2}\n",
      "<type 'unicode'> New Jersey {u'Pennsylvania': 0.3333333333333333, u'Delaware': 0.3333333333333333, u'New York': 0.3333333333333333}\n",
      "<type 'unicode'> New York {u'New Jersey': 0.2, u'Pennsylvania': 0.2, u'Vermont': 0.2, u'Connecticut': 0.2, u'Massachusetts': 0.2}\n",
      "<type 'unicode'> North Dakota {u'South Dakota': 0.3333333333333333, u'Montana': 0.3333333333333333, u'Minnesota': 0.3333333333333333}\n",
      "<type 'unicode'> Ohio {u'Pennsylvania': 0.2, u'Indiana': 0.2, u'Michigan': 0.2, u'Kentucky': 0.2, u'West Virginia': 0.2}\n",
      "<type 'unicode'> Pennsylvania {u'New Jersey': 0.16666666666666666, u'Delaware': 0.16666666666666666, u'New York': 0.16666666666666666, u'West Virginia': 0.16666666666666666, u'Ohio': 0.16666666666666666, u'Maryland': 0.16666666666666666}\n",
      "<type 'unicode'> South Carolina {u'Georgia': 0.5, u'North Carolina': 0.5}\n",
      "<type 'unicode'> South Dakota {u'Iowa': 0.16666666666666666, u'North Dakota': 0.16666666666666666, u'Wyoming': 0.16666666666666666, u'Minnesota': 0.16666666666666666, u'Nebraska': 0.16666666666666666, u'Montana': 0.16666666666666666}\n",
      "<type 'unicode'> Texas {u'Arkansas': 0.25, u'Oklahoma': 0.25, u'Louisiana': 0.25, u'New Mexico': 0.25}\n",
      "<type 'unicode'> Utah {u'Colorado': 0.2, u'Wyoming': 0.2, u'Arizona': 0.2, u'Idaho': 0.2, u'Nevada': 0.2}\n",
      "<type 'unicode'> Virginia {u'Kentucky': 0.16666666666666666, u'Tennessee': 0.16666666666666666, u'North Carolina': 0.16666666666666666, u'District of Columbia': 0.16666666666666666, u'West Virginia': 0.16666666666666666, u'Maryland': 0.16666666666666666}\n",
      "<type 'unicode'> Wyoming {u'South Dakota': 0.16666666666666666, u'Colorado': 0.16666666666666666, u'Utah': 0.16666666666666666, u'Nebraska': 0.16666666666666666, u'Montana': 0.16666666666666666, u'Idaho': 0.16666666666666666}\n",
      "<type 'unicode'> Puerto Rico {}\n",
      "<type 'unicode'> Oregon {u'California': 0.25, u'Nevada': 0.25, u'Washington': 0.25, u'Idaho': 0.25}\n",
      "<type 'unicode'> West Virginia {u'Pennsylvania': 0.2, u'Ohio': 0.2, u'Maryland': 0.2, u'Virginia': 0.2, u'Kentucky': 0.2}\n",
      "<type 'unicode'> Alabama {u'Mississippi': 0.25, u'Georgia': 0.25, u'Florida': 0.25, u'Tennessee': 0.25}\n",
      "<type 'unicode'> Alaska {}\n",
      "<type 'unicode'> Colorado {u'Kansas': 0.16666666666666666, u'Oklahoma': 0.16666666666666666, u'Wyoming': 0.16666666666666666, u'Utah': 0.16666666666666666, u'Nebraska': 0.16666666666666666, u'New Mexico': 0.16666666666666666}\n",
      "<type 'unicode'> Delaware {u'New Jersey': 0.3333333333333333, u'Pennsylvania': 0.3333333333333333, u'Maryland': 0.3333333333333333}\n",
      "<type 'unicode'> District of Columbia {u'Maryland': 0.5, u'Virginia': 0.5}\n",
      "<type 'unicode'> Hawaii {}\n",
      "<type 'unicode'> Indiana {u'Ohio': 0.25, u'Michigan': 0.25, u'Kentucky': 0.25, u'Illinois': 0.25}\n",
      "<type 'unicode'> Kentucky {u'West Virginia': 0.14285714285714285, u'Virginia': 0.14285714285714285, u'Illinois': 0.14285714285714285, u'Tennessee': 0.14285714285714285, u'Missouri': 0.14285714285714285, u'Indiana': 0.14285714285714285, u'Ohio': 0.14285714285714285}\n",
      "<type 'unicode'> Maine {u'New Hampshire': 1.0}\n",
      "<type 'unicode'> Massachusetts {u'Connecticut': 0.2, u'New York': 0.2, u'New Hampshire': 0.2, u'Vermont': 0.2, u'Rhode Island': 0.2}\n",
      "<type 'unicode'> Michigan {u'Ohio': 0.3333333333333333, u'Wisconsin': 0.3333333333333333, u'Indiana': 0.3333333333333333}\n",
      "<type 'unicode'> Montana {u'Wyoming': 0.25, u'South Dakota': 0.25, u'North Dakota': 0.25, u'Idaho': 0.25}\n",
      "<type 'unicode'> New Hampshire {u'Vermont': 0.3333333333333333, u'Massachusetts': 0.3333333333333333, u'Maine': 0.3333333333333333}\n",
      "<type 'unicode'> New Mexico {u'Oklahoma': 0.25, u'Arizona': 0.25, u'Colorado': 0.25, u'Texas': 0.25}\n",
      "<type 'unicode'> North Carolina {u'South Carolina': 0.25, u'Georgia': 0.25, u'Virginia': 0.25, u'Tennessee': 0.25}\n",
      "<type 'unicode'> Oklahoma {u'Colorado': 0.16666666666666666, u'Kansas': 0.16666666666666666, u'Arkansas': 0.16666666666666666, u'New Mexico': 0.16666666666666666, u'Missouri': 0.16666666666666666, u'Texas': 0.16666666666666666}\n",
      "<type 'unicode'> United States Virgin Islands {}\n",
      "<type 'unicode'> Rhode Island {u'Connecticut': 0.5, u'Massachusetts': 0.5}\n",
      "<type 'unicode'> Tennessee {u'Mississippi': 0.125, u'Georgia': 0.125, u'Virginia': 0.125, u'Kentucky': 0.125, u'Arkansas': 0.125, u'North Carolina': 0.125, u'Missouri': 0.125, u'Alabama': 0.125}\n",
      "<type 'unicode'> Vermont {u'New York': 0.3333333333333333, u'New Hampshire': 0.3333333333333333, u'Massachusetts': 0.3333333333333333}\n",
      "<type 'unicode'> Washington {u'Oregon': 0.5, u'Idaho': 0.5}\n",
      "<type 'unicode'> Wisconsin {u'Michigan': 0.25, u'Iowa': 0.25, u'Minnesota': 0.25, u'Illinois': 0.25}\n",
      "<type 'unicode'> American Samoa {}\n",
      "<type 'unicode'> Guam {}\n",
      "<type 'unicode'> Commonwealth of the Northern Mariana Islands {}\n"
     ]
    }
   ],
   "source": [
    "# let's try this for the rook method and state sales\n",
    "subset = tax[~tax['State_Sales'].isnull()]['State_Sales']\n",
    "print subset.keys()\n",
    "\n",
    "Y = subset.values\n",
    "Y = (Y-Y.mean())/Y.std() # <<<---- normalization\n",
    "\n",
    "print Y\n",
    "\n",
    "for (x,y) in R:\n",
    "    print type(x), x,y\n",
    "#mi_r = ps.Moran(R, )"
   ]
  },
  {
   "cell_type": "markdown",
   "metadata": {},
   "source": [
    "### First, normalize all tax rates"
   ]
  },
  {
   "cell_type": "code",
   "execution_count": null,
   "metadata": {
    "collapsed": true
   },
   "outputs": [],
   "source": []
  }
 ],
 "metadata": {
  "kernelspec": {
   "display_name": "Python 2",
   "language": "python",
   "name": "python2"
  },
  "language_info": {
   "codemirror_mode": {
    "name": "ipython",
    "version": 2
   },
   "file_extension": ".py",
   "mimetype": "text/x-python",
   "name": "python",
   "nbconvert_exporter": "python",
   "pygments_lexer": "ipython2",
   "version": "2.7.10"
  }
 },
 "nbformat": 4,
 "nbformat_minor": 0
}
